{
 "cells": [
  {
   "attachments": {},
   "cell_type": "markdown",
   "metadata": {},
   "source": [
    "# R-CNN"
   ]
  },
  {
   "attachments": {},
   "cell_type": "markdown",
   "metadata": {},
   "source": [
    "make PyTorch code of R-CNN, no using RPN network.\n",
    "\n",
    "1. Make proposals(bounding box) by regions of interest(RoI)\n",
    "2. Resize each proposals by 224*224\n",
    "3. Feed Forward each region through Convolution Network (like ResNet) which is pre-trained model by ImageNet\n",
    "4. Last, Classify classes which from bounding boxes, and correct by regression of bounding box"
   ]
  },
  {
   "attachments": {},
   "cell_type": "markdown",
   "metadata": {},
   "source": [
    "https://herbwood.tistory.com/6"
   ]
  },
  {
   "attachments": {},
   "cell_type": "markdown",
   "metadata": {},
   "source": [
    "https://github.com/pytorch/vision/blob/main/torchvision/models/detection/faster_rcnn.py\n",
    "\n",
    "https://github.com/pytorch/vision/blob/main/torchvision/ops/roi_pool.py\n",
    "\n",
    "https://github.com/object-detection-algorithm/R-CNN/blob/master/py/utils/util.py"
   ]
  },
  {
   "cell_type": "code",
   "execution_count": null,
   "metadata": {},
   "outputs": [],
   "source": [
    "import torch\n",
    "import torchvision\n",
    "import numpy as np\n",
    "import cv2\n",
    "import time\n",
    "import os\n",
    "\n",
    "# Object detection models\n",
    "from torchvision.models.detection import fasterrcnn_resnet50_fpn\n",
    "from torchvision.models.detection import maskrcnn_resnet50_fpn\n",
    "from torchvision.models.detection import keypointrcnn_resnet50_fpn\n",
    "from torchvision.models import detection\n",
    "\n",
    "IMAGE_PATH = \"path/to/your/image.jpg\"\n",
    "\n",
    "# Pre-trained models\n",
    "RCNN_MODEL = \"path/to/your/rcnn/model.pth\"\n",
    "FAST_RCNN_MODEL = \"path/to/your/fast_rcnn/model.pth\"\n",
    "FASTER_RCNN_MODEL = \"path/to/your/faster_rcnn/model.pth\"\n",
    "MASK_RCNN_MODEL = \"path/to/your/mask_rcnn/model.pth\"\n",
    "YOLO_MODEL = \"path/to/your/yolo/model.pth\"\n",
    "\n"
   ]
  },
  {
   "cell_type": "markdown",
   "metadata": {},
   "source": []
  },
  {
   "cell_type": "code",
   "execution_count": null,
   "metadata": {},
   "outputs": [],
   "source": [
    "def I"
   ]
  }
 ],
 "metadata": {
  "kernelspec": {
   "display_name": "ai",
   "language": "python",
   "name": "python3"
  },
  "language_info": {
   "name": "python",
   "version": "3.8.16"
  },
  "orig_nbformat": 4
 },
 "nbformat": 4,
 "nbformat_minor": 2
}
