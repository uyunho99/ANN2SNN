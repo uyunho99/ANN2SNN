{
 "cells": [
  {
   "cell_type": "code",
   "execution_count": null,
   "metadata": {},
   "outputs": [],
   "source": [
    "import torch\n",
    "import torchvision.transforms as transforms\n",
    "import torchvision\n",
    "from torch.utils.data import DataLoader\n",
    "\n",
    "transform = transforms.Compose(\n",
    "    [transforms.ToTensor(),\n",
    "     transforms.Normalize(mean=(0.4914, 0.4822, 0.4465), std=(0.2023, 0.1994, 0.2010))])\n",
    "\n",
    "train_set = torchvision.datasets.CIFAR10(root='./Data', train=True, download=True, transform=transform)\n",
    "train_loader = DataLoader(train_set, batch_size=512, shuffle=True, num_workers=1)\n",
    "\n",
    "test_set = torchvision.datasets.CIFAR10(root='./Data', train=False, download=True, transform=transform)\n",
    "test_loader = DataLoader(test_set, batch_size=512, shuffle=False, num_workers=1)"
   ]
  }
 ],
 "metadata": {
  "language_info": {
   "name": "python"
  },
  "orig_nbformat": 4
 },
 "nbformat": 4,
 "nbformat_minor": 2
}
