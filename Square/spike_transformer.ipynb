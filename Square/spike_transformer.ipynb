{
 "cells": [
  {
   "cell_type": "code",
   "execution_count": null,
   "metadata": {},
   "outputs": [],
   "source": [
    "class LIFNeuron(nn.Module):\n",
    "    def __init__(self, threshold, decay):\n",
    "        super().__init__()\n",
    "        self.threshold = threshold\n",
    "        self.decay = decay\n",
    "        self.voltage = 0\n",
    "\n",
    "    def forward(self, x):\n",
    "        spike = torch.zeros_like(x)\n",
    "        self.voltage = self.voltage * self.decay * (1. - spike) + x\n",
    "        spike[self.voltage > self.threshold] = 1.\n",
    "        self.voltage[self.voltage > self.threshold] = 0\n",
    "\n",
    "        return spike"
   ]
  },
  {
   "cell_type": "code",
   "execution_count": null,
   "metadata": {},
   "outputs": [],
   "source": [
    "class SpikeSelfAttention(nn.Module):\n",
    "    def __init__(self, d_model, nhead, dropout=0.1):\n",
    "        super().__init__()\n",
    "        self.d_model = d_model\n",
    "        self.nhead = nhead\n",
    "        self.dropout = dropout\n",
    "\n",
    "        self.query = nn.Linear(d_model, d_model)\n",
    "        self.key = nn.Linear(d_model, d_model)\n",
    "        self.value = nn.Linear(d_model, d_model)\n",
    "\n",
    "        self.neuron = LIFNeuron(threshold=1.0, decay=0.9)\n",
    "\n",
    "    def forward(self, x):\n",
    "        q = self.neuron(self.query(x))\n",
    "        k = self.neuron(self.key(x))\n",
    "        v = self.neuron(self.value(x))\n",
    "\n",
    "        attn_output_weights = F.softmax(\n",
    "            q @ k.transpose(-2, -1) / math.sqrt(self.d_model), dim=-1)\n",
    "        attn_output = attn_output_weights @ v\n",
    "        attn_output = self.neuron(attn_output)\n",
    "\n",
    "        return attn_output"
   ]
  },
  {
   "cell_type": "code",
   "execution_count": null,
   "metadata": {},
   "outputs": [],
   "source": [
    "class PatchEmbedding(nn.Module):\n",
    "    def __init__(self, in_channels=3, patch_size=16, emb_size=768):\n",
    "        super().__init__()\n",
    "        self.patch_size = patch_size\n",
    "        self.projection = nn.Conv2d(in_channels, emb_size, kernel_size=patch_size, stride=patch_size)\n",
    "\n",
    "    def forward(self, x):\n",
    "        x = self.projection(x)\n",
    "        return x.flatten(2).transpose(1, 2)\n"
   ]
  },
  {
   "cell_type": "code",
   "execution_count": null,
   "metadata": {},
   "outputs": [],
   "source": [
    "class PositionalEncoding(nn.Module):\n",
    "    def __init__(self, emb_size, dropout=0.1, max_len=5000):\n",
    "        super(PositionalEncoding, self).__init__()\n",
    "        self.dropout = nn.Dropout(p=dropout)\n",
    "\n",
    "        # Compute the positional encodings once in log space.\n",
    "        pe = torch.zeros(max_len, emb_size)\n",
    "        position = torch.arange(0, max_len, dtype=torch.float).unsqueeze(1)\n",
    "        div_term = torch.exp(torch.arange(0, emb_size, 2).float() * -(math.log(10000.0) / emb_size))\n",
    "        pe[:, 0::2] = torch.sin(position * div_term)\n",
    "        pe[:, 1::2] = torch.cos(position * div_term)\n",
    "        pe = pe.unsqueeze(0).transpose(0, 1)\n",
    "        self.register_buffer('pe', pe)\n",
    "\n",
    "    def forward(self, x):\n",
    "        x = x + self.pe[:x.size(0), :]\n",
    "        return self.dropout(x)"
   ]
  },
  {
   "cell_type": "code",
   "execution_count": null,
   "metadata": {},
   "outputs": [],
   "source": [
    "class SpikingTransformerEncoderLayer(nn.TransformerEncoderLayer):\n",
    "    def __init__(self, d_model, nhead, dim_feedforward=2048, dropout=0.1):\n",
    "        super().__init__(d_model, nhead, dim_feedforward, dropout)\n",
    "        self.self_attn = SpikeSelfAttention(d_model, nhead, dropout)"
   ]
  },
  {
   "cell_type": "code",
   "execution_count": null,
   "metadata": {},
   "outputs": [],
   "source": [
    "class SpikingViT(nn.Module):\n",
    "    def __init__(self, in_channels, patch_size, emb_size, img_size, num_layers, num_heads, num_classes):\n",
    "        super().__init__()\n",
    "        self.patch_embedding = PatchEmbedding(in_channels, patch_size, emb_size)\n",
    "        self.pos_embedding = PositionalEncoding(emb_size, max_len=(img_size//patch_size)**2)\n",
    "        self.transformer_encoder = nn.TransformerEncoder(SpikingTransformerEncoderLayer(emb_size, num_heads), num_layers)\n",
    "        self.classifier = nn.Linear(emb_size, num_classes)\n",
    "\n",
    "    def forward(self, x):\n",
    "        x = self.patch_embedding(x)\n",
    "        x = self.pos_embedding(x)\n",
    "        x = self.transformer_encoder(x)\n",
    "        x = x.mean(dim=1)\n",
    "        x = self.classifier(x)\n",
    "        return x"
   ]
  }
 ],
 "metadata": {
  "kernelspec": {
   "display_name": "snn",
   "language": "python",
   "name": "python3"
  },
  "language_info": {
   "name": "python",
   "version": "3.8.16"
  },
  "orig_nbformat": 4
 },
 "nbformat": 4,
 "nbformat_minor": 2
}
