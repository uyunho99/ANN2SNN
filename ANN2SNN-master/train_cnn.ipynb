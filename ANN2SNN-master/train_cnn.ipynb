{
 "cells": [
  {
   "cell_type": "code",
   "execution_count": 1,
   "metadata": {},
   "outputs": [],
   "source": [
    "import torchvision\n",
    "import torchvision.transforms as transforms\n",
    "import time\n",
    "import torch\n",
    "import torch.nn as nn\n",
    "import model_cnn as models\n",
    "from torch.backends.mps import is_available"
   ]
  },
  {
   "cell_type": "code",
   "execution_count": 20,
   "metadata": {},
   "outputs": [],
   "source": [
    "def mnist_transform():\n",
    "    return transforms.Compose([transforms.ToTensor()])\n",
    "\n",
    "\n",
    "train_batch_size = 100\n",
    "train_dataset = torchvision.datasets.MNIST(\n",
    "    root=\"D:\\Dataset\\mnist\", train=True, download=True, transform=mnist_transform())\n",
    "train_loader = torch.utils.data.DataLoader(\n",
    "    train_dataset, batch_size=train_batch_size, shuffle=True)\n",
    "\n",
    "val_dataset = torchvision.datasets.MNIST(\n",
    "    root=\"D:\\Dataset\\mnist\", train=False, download=False, transform=mnist_transform())\n",
    "val_loader = torch.utils.data.DataLoader(\n",
    "    train_dataset, batch_size=128, shuffle=False)"
   ]
  },
  {
   "cell_type": "code",
   "execution_count": 21,
   "metadata": {},
   "outputs": [],
   "source": [
    "device = torch.device(\"cpu\" if not is_available() else \"mps\")\n",
    "learning_rate = 1\n",
    "best_acc = 0  # best test accuracy\n",
    "start_epoch = 0  # start from epoch 0 or last checkpoint epoch\n",
    "num_epochs = 2\n",
    "acc_record = list([])\n",
    "loss_train_record = list([])\n",
    "loss_test_record = list([])\n",
    "\n",
    "ANN = models.Network_ANN()\n",
    "SNN = models.Network_SNN(time_window=40, threshold=1.0, max_rate=400)\n",
    "ANN.to(device)\n",
    "SNN.to(device)\n",
    "optimizer = torch.optim.SGD(ANN.parameters(), lr=learning_rate)\n",
    "criterion = nn.MSELoss().to(device)"
   ]
  },
  {
   "cell_type": "code",
   "execution_count": 22,
   "metadata": {},
   "outputs": [],
   "source": [
    "inputs = inputs.float().to(device)\n",
    "labels_ = torch.zeros(batch_sz, 10).scatter_(1, targets.view(-1, 1), 1).to(device)"
   ]
  },
  {
   "cell_type": "code",
   "execution_count": 24,
   "metadata": {},
   "outputs": [
    {
     "name": "stdout",
     "output_type": "stream",
     "text": [
      "100\n"
     ]
    }
   ],
   "source": [
    "print(batch_sz)"
   ]
  },
  {
   "cell_type": "code",
   "execution_count": 23,
   "metadata": {},
   "outputs": [
    {
     "name": "stdout",
     "output_type": "stream",
     "text": [
      "torch.Size([25, 10])\n",
      "torch.Size([100, 10])\n"
     ]
    }
   ],
   "source": [
    "print(outputs.shape)\n",
    "print(labels_.shape)"
   ]
  },
  {
   "cell_type": "code",
   "execution_count": 4,
   "metadata": {},
   "outputs": [
    {
     "name": "stdout",
     "output_type": "stream",
     "text": [
      "torch.Size([25, 10])\n",
      "torch.Size([100, 10])\n"
     ]
    },
    {
     "name": "stderr",
     "output_type": "stream",
     "text": [
      "/Users/yunho/opt/anaconda3/envs/snn/lib/python3.8/site-packages/torch/nn/modules/loss.py:536: UserWarning: Using a target size (torch.Size([100, 10])) that is different to the input size (torch.Size([25, 10])). This will likely lead to incorrect results due to broadcasting. Please ensure they have the same size.\n",
      "  return F.mse_loss(input, target, reduction=self.reduction)\n"
     ]
    },
    {
     "ename": "RuntimeError",
     "evalue": "The size of tensor a (25) must match the size of tensor b (100) at non-singleton dimension 0",
     "output_type": "error",
     "traceback": [
      "\u001B[0;31m---------------------------------------------------------------------------\u001B[0m",
      "\u001B[0;31mRuntimeError\u001B[0m                              Traceback (most recent call last)",
      "Cell \u001B[0;32mIn[4], line 14\u001B[0m\n\u001B[1;32m     12\u001B[0m \u001B[39mprint\u001B[39m(outputs\u001B[39m.\u001B[39mshape)\n\u001B[1;32m     13\u001B[0m \u001B[39mprint\u001B[39m(labels_\u001B[39m.\u001B[39mshape)\n\u001B[0;32m---> 14\u001B[0m loss \u001B[39m=\u001B[39m criterion(outputs, labels_)\n\u001B[1;32m     15\u001B[0m running_loss \u001B[39m+\u001B[39m\u001B[39m=\u001B[39m loss\u001B[39m.\u001B[39mcpu()\u001B[39m.\u001B[39mitem()\n\u001B[1;32m     16\u001B[0m loss\u001B[39m.\u001B[39mbackward()\n",
      "File \u001B[0;32m~/opt/anaconda3/envs/snn/lib/python3.8/site-packages/torch/nn/modules/module.py:1501\u001B[0m, in \u001B[0;36mModule._call_impl\u001B[0;34m(self, *args, **kwargs)\u001B[0m\n\u001B[1;32m   1496\u001B[0m \u001B[39m# If we don't have any hooks, we want to skip the rest of the logic in\u001B[39;00m\n\u001B[1;32m   1497\u001B[0m \u001B[39m# this function, and just call forward.\u001B[39;00m\n\u001B[1;32m   1498\u001B[0m \u001B[39mif\u001B[39;00m \u001B[39mnot\u001B[39;00m (\u001B[39mself\u001B[39m\u001B[39m.\u001B[39m_backward_hooks \u001B[39mor\u001B[39;00m \u001B[39mself\u001B[39m\u001B[39m.\u001B[39m_backward_pre_hooks \u001B[39mor\u001B[39;00m \u001B[39mself\u001B[39m\u001B[39m.\u001B[39m_forward_hooks \u001B[39mor\u001B[39;00m \u001B[39mself\u001B[39m\u001B[39m.\u001B[39m_forward_pre_hooks\n\u001B[1;32m   1499\u001B[0m         \u001B[39mor\u001B[39;00m _global_backward_pre_hooks \u001B[39mor\u001B[39;00m _global_backward_hooks\n\u001B[1;32m   1500\u001B[0m         \u001B[39mor\u001B[39;00m _global_forward_hooks \u001B[39mor\u001B[39;00m _global_forward_pre_hooks):\n\u001B[0;32m-> 1501\u001B[0m     \u001B[39mreturn\u001B[39;00m forward_call(\u001B[39m*\u001B[39;49margs, \u001B[39m*\u001B[39;49m\u001B[39m*\u001B[39;49mkwargs)\n\u001B[1;32m   1502\u001B[0m \u001B[39m# Do not call functions when jit is used\u001B[39;00m\n\u001B[1;32m   1503\u001B[0m full_backward_hooks, non_full_backward_hooks \u001B[39m=\u001B[39m [], []\n",
      "File \u001B[0;32m~/opt/anaconda3/envs/snn/lib/python3.8/site-packages/torch/nn/modules/loss.py:536\u001B[0m, in \u001B[0;36mMSELoss.forward\u001B[0;34m(self, input, target)\u001B[0m\n\u001B[1;32m    535\u001B[0m \u001B[39mdef\u001B[39;00m \u001B[39mforward\u001B[39m(\u001B[39mself\u001B[39m, \u001B[39minput\u001B[39m: Tensor, target: Tensor) \u001B[39m-\u001B[39m\u001B[39m>\u001B[39m Tensor:\n\u001B[0;32m--> 536\u001B[0m     \u001B[39mreturn\u001B[39;00m F\u001B[39m.\u001B[39;49mmse_loss(\u001B[39minput\u001B[39;49m, target, reduction\u001B[39m=\u001B[39;49m\u001B[39mself\u001B[39;49m\u001B[39m.\u001B[39;49mreduction)\n",
      "File \u001B[0;32m~/opt/anaconda3/envs/snn/lib/python3.8/site-packages/torch/nn/functional.py:3294\u001B[0m, in \u001B[0;36mmse_loss\u001B[0;34m(input, target, size_average, reduce, reduction)\u001B[0m\n\u001B[1;32m   3291\u001B[0m \u001B[39mif\u001B[39;00m size_average \u001B[39mis\u001B[39;00m \u001B[39mnot\u001B[39;00m \u001B[39mNone\u001B[39;00m \u001B[39mor\u001B[39;00m reduce \u001B[39mis\u001B[39;00m \u001B[39mnot\u001B[39;00m \u001B[39mNone\u001B[39;00m:\n\u001B[1;32m   3292\u001B[0m     reduction \u001B[39m=\u001B[39m _Reduction\u001B[39m.\u001B[39mlegacy_get_string(size_average, reduce)\n\u001B[0;32m-> 3294\u001B[0m expanded_input, expanded_target \u001B[39m=\u001B[39m torch\u001B[39m.\u001B[39;49mbroadcast_tensors(\u001B[39minput\u001B[39;49m, target)\n\u001B[1;32m   3295\u001B[0m \u001B[39mreturn\u001B[39;00m torch\u001B[39m.\u001B[39m_C\u001B[39m.\u001B[39m_nn\u001B[39m.\u001B[39mmse_loss(expanded_input, expanded_target, _Reduction\u001B[39m.\u001B[39mget_enum(reduction))\n",
      "File \u001B[0;32m~/opt/anaconda3/envs/snn/lib/python3.8/site-packages/torch/functional.py:74\u001B[0m, in \u001B[0;36mbroadcast_tensors\u001B[0;34m(*tensors)\u001B[0m\n\u001B[1;32m     72\u001B[0m \u001B[39mif\u001B[39;00m has_torch_function(tensors):\n\u001B[1;32m     73\u001B[0m     \u001B[39mreturn\u001B[39;00m handle_torch_function(broadcast_tensors, tensors, \u001B[39m*\u001B[39mtensors)\n\u001B[0;32m---> 74\u001B[0m \u001B[39mreturn\u001B[39;00m _VF\u001B[39m.\u001B[39;49mbroadcast_tensors(tensors)\n",
      "\u001B[0;31mRuntimeError\u001B[0m: The size of tensor a (25) must match the size of tensor b (100) at non-singleton dimension 0"
     ]
    }
   ],
   "source": [
    "for epoch in range(num_epochs):\n",
    "    running_loss = 0\n",
    "    start_time = time.time()\n",
    "    for i, (inputs, targets) in enumerate(train_loader):\n",
    "        batch_sz = inputs.size(0)\n",
    "        ANN.zero_grad()\n",
    "        optimizer.zero_grad()\n",
    "        inputs = inputs.float().to(device)\n",
    "        labels_ = torch.zeros(batch_sz, 10).scatter_(\n",
    "            1, targets.view(-1, 1), 1).to(device)\n",
    "        outputs = ANN(inputs)\n",
    "        print(outputs.shape)\n",
    "        print(labels_.shape)\n",
    "        loss = criterion(outputs, labels_)\n",
    "        running_loss += loss.cpu().item()\n",
    "        loss.backward()\n",
    "        optimizer.step()\n",
    "        if (i+1) % 100 == 0:\n",
    "            print('Epoch [%d/%d], Step [%d/%d], Training Loss: %.5f Time elasped:%.2f s'\n",
    "                  % (epoch+1, num_epochs, i+1, len(train_dataset)//train_batch_size, running_loss, time.time()-start_time))\n",
    "            running_loss = 0\n",
    "    correct = 0\n",
    "    total = 0\n",
    "    with torch.no_grad():\n",
    "        for batch_idx, (inputs, targets) in enumerate(val_loader):\n",
    "            batch_sz = inputs.size(0)\n",
    "            inputs = inputs.float().to(device)\n",
    "            labels_ = torch.zeros(batch_sz, 10).scatter_(\n",
    "                1, targets.view(-1, 1), 1).to(device)\n",
    "            outputs = ANN(inputs)\n",
    "            targets = targets.to(device)\n",
    "            loss = criterion(outputs, labels_)\n",
    "            _, predicted = outputs.max(1)\n",
    "            total += float(targets.size(0))\n",
    "            correct += float(predicted.eq(targets).sum().cpu().item())\n",
    "    print(\"ANN Test Accuracy: %.3f\" % (100 * correct / total))\n",
    "    acc = 100. * float(correct) / float(total)\n",
    "    acc_record.append(acc)\n",
    "\n",
    "    correct = 0\n",
    "    total = 0\n",
    "    SNN.load_state_dict(ANN.state_dict())\n",
    "    for batch_idx, (inputs, targets) in enumerate(val_loader):\n",
    "        batch_sz = inputs.size(0)\n",
    "        targets = targets.to(device)\n",
    "        inputs = inputs.float().to(device)\n",
    "        outputs = SNN(inputs)\n",
    "        _, predicted = outputs.max(1)\n",
    "        total += float(targets.size(0))\n",
    "        correct += float(predicted.eq(targets).sum().cpu().item())\n",
    "    print(\"SNN Test Accuracy: %.3f\" % (100 * correct / total))"
   ]
  },
  {
   "cell_type": "code",
   "execution_count": null,
   "metadata": {},
   "outputs": [],
   "source": []
  }
 ],
 "metadata": {
  "kernelspec": {
   "display_name": "snn",
   "language": "python",
   "name": "python3"
  },
  "language_info": {
   "codemirror_mode": {
    "name": "ipython",
    "version": 3
   },
   "file_extension": ".py",
   "mimetype": "text/x-python",
   "name": "python",
   "nbconvert_exporter": "python",
   "pygments_lexer": "ipython3",
   "version": "3.8.16"
  },
  "orig_nbformat": 4
 },
 "nbformat": 4,
 "nbformat_minor": 2
}
